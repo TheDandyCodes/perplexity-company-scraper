{
 "cells": [
  {
   "cell_type": "code",
   "execution_count": 4,
   "id": "dc565206",
   "metadata": {},
   "outputs": [],
   "source": [
    "# Configuration to automatically reload modified modules\n",
    "%load_ext autoreload\n",
    "%autoreload 2\n",
    "\n",
    "# This allows changes in imported modules to be reflected automatically\n",
    "# without needing to restart the kernel"
   ]
  },
  {
   "cell_type": "code",
   "execution_count": 5,
   "id": "5bea3e90",
   "metadata": {},
   "outputs": [],
   "source": [
    "import pandas as pd\n",
    "import toml\n",
    "import sys\n",
    "sys.path.append(\"..\")\n",
    "\n",
    "config = toml.load(\"../config.toml\")"
   ]
  },
  {
   "cell_type": "code",
   "execution_count": 10,
   "id": "a6f106d5",
   "metadata": {},
   "outputs": [
    {
     "data": {
      "text/plain": [
       "{'system': 'Eres un asistente útil que proporciona información estructurada sobre empresas en formato JSON.\\n',\n",
       " 'user': 'Proporciona información estructurada sobre la empresa \"{company_name}\" en formato JSON.\\nIncluye los siguientes campos si están disponibles:\\n  - company_name: Nombre oficial de la empresa\\n  - industry: Sector industrial principal\\n  - headquarters: Ubicación de la sede\\n  - founded_year: Año de fundación\\n  - employee_count: Número aproximado de empleados\\n  - revenue: Ingresos anuales (si es pública)\\n  - description: Breve descripción de la empresa\\n  - website: URL oficial del sitio web\\nSi la información no está disponible, utiliza null para ese campo.\\nDevuelve solo JSON válido sin texto adicional.\\n'}"
      ]
     },
     "execution_count": 10,
     "metadata": {},
     "output_type": "execute_result"
    }
   ],
   "source": [
    "from utils import load_prompts\n",
    "\n",
    "load_prompts(\"../prompts.yaml\", config[\"model\"][\"model_name\"])"
   ]
  },
  {
   "cell_type": "code",
   "execution_count": 11,
   "id": "2a5605f5",
   "metadata": {},
   "outputs": [],
   "source": [
    "companies_df = pd.read_csv(f\"../{config['data']['input_csv_path']}\")"
   ]
  },
  {
   "cell_type": "code",
   "execution_count": 9,
   "id": "f310d8b9",
   "metadata": {},
   "outputs": [
    {
     "data": {
      "application/vnd.microsoft.datawrangler.viewer.v0+json": {
       "columns": [
        {
         "name": "index",
         "rawType": "int64",
         "type": "integer"
        },
        {
         "name": "Cuenta",
         "rawType": "object",
         "type": "string"
        },
        {
         "name": "CIF",
         "rawType": "float64",
         "type": "float"
        },
        {
         "name": "Está en SF?",
         "rawType": "float64",
         "type": "float"
        },
        {
         "name": "Link a SF",
         "rawType": "float64",
         "type": "float"
        },
        {
         "name": "Razón Social",
         "rawType": "float64",
         "type": "float"
        },
        {
         "name": "Teléfono",
         "rawType": "float64",
         "type": "float"
        },
        {
         "name": "Sitio Web",
         "rawType": "float64",
         "type": "float"
        },
        {
         "name": "CNAE",
         "rawType": "float64",
         "type": "float"
        },
        {
         "name": "Descripción de CNAE",
         "rawType": "float64",
         "type": "float"
        },
        {
         "name": "Sector",
         "rawType": "float64",
         "type": "float"
        },
        {
         "name": "Número de Empleados",
         "rawType": "float64",
         "type": "float"
        },
        {
         "name": "Ingresos Anuales",
         "rawType": "float64",
         "type": "float"
        },
        {
         "name": "Pais",
         "rawType": "float64",
         "type": "float"
        },
        {
         "name": "Estado/Provincia",
         "rawType": "float64",
         "type": "float"
        },
        {
         "name": "Ciudad",
         "rawType": "float64",
         "type": "float"
        },
        {
         "name": "Direccion",
         "rawType": "float64",
         "type": "float"
        },
        {
         "name": "Nombre CIO",
         "rawType": "float64",
         "type": "float"
        },
        {
         "name": "Apellidos CIO",
         "rawType": "float64",
         "type": "float"
        },
        {
         "name": "email CIO",
         "rawType": "float64",
         "type": "float"
        },
        {
         "name": "Teléfono móvil CIO",
         "rawType": "float64",
         "type": "float"
        },
        {
         "name": "Link del perfil de Linkedin CIO",
         "rawType": "float64",
         "type": "float"
        },
        {
         "name": "Nombre CEO",
         "rawType": "float64",
         "type": "float"
        },
        {
         "name": "Apellidos CEO",
         "rawType": "float64",
         "type": "float"
        },
        {
         "name": "email CEO",
         "rawType": "float64",
         "type": "float"
        },
        {
         "name": "Teléfono móvil CEO",
         "rawType": "float64",
         "type": "float"
        },
        {
         "name": "Link del perfil de Linkedin CEO",
         "rawType": "float64",
         "type": "float"
        }
       ],
       "ref": "fc72cee7-b804-4b1b-8a40-320f17b18233",
       "rows": [
        [
         "0",
         "Mossega",
         null,
         null,
         null,
         null,
         null,
         null,
         null,
         null,
         null,
         null,
         null,
         null,
         null,
         null,
         null,
         null,
         null,
         null,
         null,
         null,
         null,
         null,
         null,
         null,
         null
        ],
        [
         "1",
         "Vision Técnica",
         null,
         null,
         null,
         null,
         null,
         null,
         null,
         null,
         null,
         null,
         null,
         null,
         null,
         null,
         null,
         null,
         null,
         null,
         null,
         null,
         null,
         null,
         null,
         null,
         null
        ],
        [
         "2",
         "Instalaciones Técnicas L. Zapata, SL - ITZ",
         null,
         null,
         null,
         null,
         null,
         null,
         null,
         null,
         null,
         null,
         null,
         null,
         null,
         null,
         null,
         null,
         null,
         null,
         null,
         null,
         null,
         null,
         null,
         null,
         null
        ],
        [
         "3",
         "THE COFFEE POT BCN SL.",
         null,
         null,
         null,
         null,
         null,
         null,
         null,
         null,
         null,
         null,
         null,
         null,
         null,
         null,
         null,
         null,
         null,
         null,
         null,
         null,
         null,
         null,
         null,
         null,
         null
        ],
        [
         "4",
         "Octograficus",
         null,
         null,
         null,
         null,
         null,
         null,
         null,
         null,
         null,
         null,
         null,
         null,
         null,
         null,
         null,
         null,
         null,
         null,
         null,
         null,
         null,
         null,
         null,
         null,
         null
        ]
       ],
       "shape": {
        "columns": 26,
        "rows": 5
       }
      },
      "text/html": [
       "<div>\n",
       "<style scoped>\n",
       "    .dataframe tbody tr th:only-of-type {\n",
       "        vertical-align: middle;\n",
       "    }\n",
       "\n",
       "    .dataframe tbody tr th {\n",
       "        vertical-align: top;\n",
       "    }\n",
       "\n",
       "    .dataframe thead th {\n",
       "        text-align: right;\n",
       "    }\n",
       "</style>\n",
       "<table border=\"1\" class=\"dataframe\">\n",
       "  <thead>\n",
       "    <tr style=\"text-align: right;\">\n",
       "      <th></th>\n",
       "      <th>Cuenta</th>\n",
       "      <th>CIF</th>\n",
       "      <th>Está en SF?</th>\n",
       "      <th>Link a SF</th>\n",
       "      <th>Razón Social</th>\n",
       "      <th>Teléfono</th>\n",
       "      <th>Sitio Web</th>\n",
       "      <th>CNAE</th>\n",
       "      <th>Descripción de CNAE</th>\n",
       "      <th>Sector</th>\n",
       "      <th>...</th>\n",
       "      <th>Nombre CIO</th>\n",
       "      <th>Apellidos CIO</th>\n",
       "      <th>email CIO</th>\n",
       "      <th>Teléfono móvil CIO</th>\n",
       "      <th>Link del perfil de Linkedin CIO</th>\n",
       "      <th>Nombre CEO</th>\n",
       "      <th>Apellidos CEO</th>\n",
       "      <th>email CEO</th>\n",
       "      <th>Teléfono móvil CEO</th>\n",
       "      <th>Link del perfil de Linkedin CEO</th>\n",
       "    </tr>\n",
       "  </thead>\n",
       "  <tbody>\n",
       "    <tr>\n",
       "      <th>0</th>\n",
       "      <td>Mossega</td>\n",
       "      <td>NaN</td>\n",
       "      <td>NaN</td>\n",
       "      <td>NaN</td>\n",
       "      <td>NaN</td>\n",
       "      <td>NaN</td>\n",
       "      <td>NaN</td>\n",
       "      <td>NaN</td>\n",
       "      <td>NaN</td>\n",
       "      <td>NaN</td>\n",
       "      <td>...</td>\n",
       "      <td>NaN</td>\n",
       "      <td>NaN</td>\n",
       "      <td>NaN</td>\n",
       "      <td>NaN</td>\n",
       "      <td>NaN</td>\n",
       "      <td>NaN</td>\n",
       "      <td>NaN</td>\n",
       "      <td>NaN</td>\n",
       "      <td>NaN</td>\n",
       "      <td>NaN</td>\n",
       "    </tr>\n",
       "    <tr>\n",
       "      <th>1</th>\n",
       "      <td>Vision Técnica</td>\n",
       "      <td>NaN</td>\n",
       "      <td>NaN</td>\n",
       "      <td>NaN</td>\n",
       "      <td>NaN</td>\n",
       "      <td>NaN</td>\n",
       "      <td>NaN</td>\n",
       "      <td>NaN</td>\n",
       "      <td>NaN</td>\n",
       "      <td>NaN</td>\n",
       "      <td>...</td>\n",
       "      <td>NaN</td>\n",
       "      <td>NaN</td>\n",
       "      <td>NaN</td>\n",
       "      <td>NaN</td>\n",
       "      <td>NaN</td>\n",
       "      <td>NaN</td>\n",
       "      <td>NaN</td>\n",
       "      <td>NaN</td>\n",
       "      <td>NaN</td>\n",
       "      <td>NaN</td>\n",
       "    </tr>\n",
       "    <tr>\n",
       "      <th>2</th>\n",
       "      <td>Instalaciones Técnicas L. Zapata, SL - ITZ</td>\n",
       "      <td>NaN</td>\n",
       "      <td>NaN</td>\n",
       "      <td>NaN</td>\n",
       "      <td>NaN</td>\n",
       "      <td>NaN</td>\n",
       "      <td>NaN</td>\n",
       "      <td>NaN</td>\n",
       "      <td>NaN</td>\n",
       "      <td>NaN</td>\n",
       "      <td>...</td>\n",
       "      <td>NaN</td>\n",
       "      <td>NaN</td>\n",
       "      <td>NaN</td>\n",
       "      <td>NaN</td>\n",
       "      <td>NaN</td>\n",
       "      <td>NaN</td>\n",
       "      <td>NaN</td>\n",
       "      <td>NaN</td>\n",
       "      <td>NaN</td>\n",
       "      <td>NaN</td>\n",
       "    </tr>\n",
       "    <tr>\n",
       "      <th>3</th>\n",
       "      <td>THE COFFEE POT BCN SL.</td>\n",
       "      <td>NaN</td>\n",
       "      <td>NaN</td>\n",
       "      <td>NaN</td>\n",
       "      <td>NaN</td>\n",
       "      <td>NaN</td>\n",
       "      <td>NaN</td>\n",
       "      <td>NaN</td>\n",
       "      <td>NaN</td>\n",
       "      <td>NaN</td>\n",
       "      <td>...</td>\n",
       "      <td>NaN</td>\n",
       "      <td>NaN</td>\n",
       "      <td>NaN</td>\n",
       "      <td>NaN</td>\n",
       "      <td>NaN</td>\n",
       "      <td>NaN</td>\n",
       "      <td>NaN</td>\n",
       "      <td>NaN</td>\n",
       "      <td>NaN</td>\n",
       "      <td>NaN</td>\n",
       "    </tr>\n",
       "    <tr>\n",
       "      <th>4</th>\n",
       "      <td>Octograficus</td>\n",
       "      <td>NaN</td>\n",
       "      <td>NaN</td>\n",
       "      <td>NaN</td>\n",
       "      <td>NaN</td>\n",
       "      <td>NaN</td>\n",
       "      <td>NaN</td>\n",
       "      <td>NaN</td>\n",
       "      <td>NaN</td>\n",
       "      <td>NaN</td>\n",
       "      <td>...</td>\n",
       "      <td>NaN</td>\n",
       "      <td>NaN</td>\n",
       "      <td>NaN</td>\n",
       "      <td>NaN</td>\n",
       "      <td>NaN</td>\n",
       "      <td>NaN</td>\n",
       "      <td>NaN</td>\n",
       "      <td>NaN</td>\n",
       "      <td>NaN</td>\n",
       "      <td>NaN</td>\n",
       "    </tr>\n",
       "  </tbody>\n",
       "</table>\n",
       "<p>5 rows × 26 columns</p>\n",
       "</div>"
      ],
      "text/plain": [
       "                                       Cuenta  CIF  Está en SF?  Link a SF  \\\n",
       "0                                     Mossega  NaN          NaN        NaN   \n",
       "1                              Vision Técnica  NaN          NaN        NaN   \n",
       "2  Instalaciones Técnicas L. Zapata, SL - ITZ  NaN          NaN        NaN   \n",
       "3                      THE COFFEE POT BCN SL.  NaN          NaN        NaN   \n",
       "4                                Octograficus  NaN          NaN        NaN   \n",
       "\n",
       "   Razón Social  Teléfono  Sitio Web  CNAE  Descripción de CNAE  Sector  ...  \\\n",
       "0           NaN       NaN        NaN   NaN                  NaN     NaN  ...   \n",
       "1           NaN       NaN        NaN   NaN                  NaN     NaN  ...   \n",
       "2           NaN       NaN        NaN   NaN                  NaN     NaN  ...   \n",
       "3           NaN       NaN        NaN   NaN                  NaN     NaN  ...   \n",
       "4           NaN       NaN        NaN   NaN                  NaN     NaN  ...   \n",
       "\n",
       "   Nombre CIO  Apellidos CIO  email CIO  Teléfono móvil CIO  \\\n",
       "0         NaN            NaN        NaN                 NaN   \n",
       "1         NaN            NaN        NaN                 NaN   \n",
       "2         NaN            NaN        NaN                 NaN   \n",
       "3         NaN            NaN        NaN                 NaN   \n",
       "4         NaN            NaN        NaN                 NaN   \n",
       "\n",
       "   Link del perfil de Linkedin CIO  Nombre CEO  Apellidos CEO  email CEO  \\\n",
       "0                              NaN         NaN            NaN        NaN   \n",
       "1                              NaN         NaN            NaN        NaN   \n",
       "2                              NaN         NaN            NaN        NaN   \n",
       "3                              NaN         NaN            NaN        NaN   \n",
       "4                              NaN         NaN            NaN        NaN   \n",
       "\n",
       "   Teléfono móvil CEO  Link del perfil de Linkedin CEO  \n",
       "0                 NaN                              NaN  \n",
       "1                 NaN                              NaN  \n",
       "2                 NaN                              NaN  \n",
       "3                 NaN                              NaN  \n",
       "4                 NaN                              NaN  \n",
       "\n",
       "[5 rows x 26 columns]"
      ]
     },
     "execution_count": 9,
     "metadata": {},
     "output_type": "execute_result"
    }
   ],
   "source": [
    "companies_df.head()"
   ]
  }
 ],
 "metadata": {
  "kernelspec": {
   "display_name": "perplexity-company-scraper",
   "language": "python",
   "name": "python3"
  },
  "language_info": {
   "codemirror_mode": {
    "name": "ipython",
    "version": 3
   },
   "file_extension": ".py",
   "mimetype": "text/x-python",
   "name": "python",
   "nbconvert_exporter": "python",
   "pygments_lexer": "ipython3",
   "version": "3.9.6"
  }
 },
 "nbformat": 4,
 "nbformat_minor": 5
}
