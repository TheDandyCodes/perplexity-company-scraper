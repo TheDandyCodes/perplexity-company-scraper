{
 "cells": [
  {
   "cell_type": "code",
   "execution_count": 5,
   "id": "dc565206",
   "metadata": {},
   "outputs": [
    {
     "name": "stdout",
     "output_type": "stream",
     "text": [
      "The autoreload extension is already loaded. To reload it, use:\n",
      "  %reload_ext autoreload\n"
     ]
    }
   ],
   "source": [
    "# Configuration to automatically reload modified modules\n",
    "%load_ext autoreload\n",
    "%autoreload 2\n",
    "\n",
    "# This allows changes in imported modules to be reflected automatically\n",
    "# without needing to restart the kernel"
   ]
  },
  {
   "cell_type": "code",
   "execution_count": 6,
   "id": "5bea3e90",
   "metadata": {},
   "outputs": [],
   "source": [
    "import pandas as pd\n",
    "import toml\n",
    "import sys\n",
    "sys.path.append(\"..\")\n",
    "\n",
    "config = toml.load(\"../config.toml\")"
   ]
  },
  {
   "cell_type": "code",
   "execution_count": 7,
   "id": "a6f106d5",
   "metadata": {},
   "outputs": [
    {
     "data": {
      "text/plain": [
       "{'models': {'perplexity/sonar-small-online': {'system': 'Actúa como un agente experto en buscar información sobre empresas y su sede española a partir de su nombre. Para ello debes seguir estos pasos: \\n  1. Buscar en la página https://www.expansion.com/ el nombre con el que se menciona a dicha empresa dentro de esa web, es decir, encontrar el nombre oficial de dicha empresa. \\n  2. Recoger toda la información relevante relacionada con la empresa para poder responder a las siguientes secciones. Entre ** están marcados los valores que son **muy** importantes que busques información:\\n  [\\n      **\"NIF/CIF\"**,\\n      \"Razón Social\",\\n      **\"Teléfono\"**,\\n      \"Sitio Web\",\\n      \"CNAE\",\\n      \"Descripción de CNAE\",\\n      \"Sector\",\\n      **\"Número de Empleados\"**,\\n      **\"Ingresos anuales\"**,\\n      \"Pais\",\\n      \"Estado/Provincia\",\\n      \"Ciudad\",\\n      \"Direccion\"\\n  ]\\n',\n",
       "   'user': 'Proporciona la siguiente información de la empresa {companyName}. Si algún dato no se puede encontrar, su valor debe ser \"No encontrado\".\\n'},\n",
       "  'sonar-pro': {'system': 'Eres un agente de IA experto en la extracción de datos de empresas con sede en España. Tu única función es recibir el nombre de una empresa y devolver un objeto JSON con la información solicitada.\\n\\n**Instrucciones estrictas:**\\n1.  **Fuente Principal:** Tu fuente de información prioritaria debe ser el portal de datos empresariales de `https://www.expansion.com/`. Usa este sitio para encontrar la \"Razón Social\" oficial y el \"CIF\".\\n2.  **Fuentes Secundarias:** Si la información en Expansión es incompleta, puedes complementarla utilizando otras fuentes fiables como el sitio web oficial de la empresa, LinkedIn, o directorios de empresas reconocidos.\\n3.  **Datos Requeridos:** Debes hacer todo lo posible por encontrar la información para **todos** los campos definidos en el esquema JSON. Los campos más críticos son `CIF`, `Teléfono`, `Número de Empleados` e `Ingresos anuales`.\\n4.  **Manejo de Datos Faltantes:** Si después de una búsqueda exhaustiva no encuentras un dato para un campo **requerido**, debes usar el valor `null` en el JSON. **No inventes información**.\\n5.  **Formato de Salida:** Tu respuesta debe ser **única y exclusivamente un objeto JSON válido** que se adhiera al esquema proporcionado. No incluyas texto introductorio, explicaciones, markdown (` ```json `), ni ningún carácter fuera del objeto JSON.\\n\\n**Esquema de Salida JSON:**\\nEl JSON de salida debe seguir esta estructura de forma obligatoria.\\n{\\n  \"type\": \"object\",\\n  \"properties\": {\\n    \"CIF\": {\"type\": \"string\"},\\n    \"Razón Social\": {\"type\": \"string\"},\\n    \"Teléfono\": {\"type\": \"string\"},\\n    \"Sitio Web\": {\"type\": \"string\"},\\n    \"CNAE\": {\"type\": \"string\"},\\n    \"Descripción de CNAE\": {\"type\": \"string\"},\\n    \"Sector\": {\"type\": \"string\"},\\n    \"Número de Empleados\": {\"type\": \"array\", \"items\": {\"type\": \"integer\"}},\\n    \"Ingresos anuales\": {\"type\": \"array\", \"items\": {\"type\": \"number\"}},\\n    \"Pais\": {\"type\": \"string\"},\\n    \"Estado/Provincia\": {\"type\": \"string\"},\\n    \"Ciudad\": {\"type\": \"string\"},\\n    \"Direccion\": {\"type\": \"string\"}\\n  },\\n\\nEjemplo:\\nA continuación se muestra un ejemplo de cómo debes procesar una entrada y cuál debe ser tu salida.\\n```\\nuser: \"Inditex\"\\n\\nassistant: \"{\\n  \"CIF\": \"A15075062\",\\n  \"Razón Social\": \"INDUSTRIA DE DISEÑO TEXTIL, S.A.\",\\n  \"Teléfono\": \"+34981185400\",\\n  \"Sitio Web\": \"https://www.inditex.com/\",\\n  \"CNAE\": \"4771\",\\n  \"Descripción de CNAE\": \"Comercio al por menor de prendas de vestir en establecimientos especializados\",\\n  \"Sector\": \"Comercio Minorista\",\\n  \"Número de Empleados\": [161241],\\n  \"Ingresos anuales\": [35947000000],\\n  \"Pais\": \"España\",\\n  \"Estado/Provincia\": \"A Coruña\",\\n  \"Ciudad\": \"Arteixo\",\\n  \"Direccion\": \"Avenida de la Diputacion, Edificio Inditex\"\\n}\"\\n```\\n\\n**IMPORTANTE**: Solo debes responder con el JSON, no añadas explicaciones ni texto adicional.\\n',\n",
       "   'user': 'Dame información detallada sobre la empresa {company_name}. Incluye los campos relevantes y responde **solo** con JSON válido.\\n'},\n",
       "  'mistral-large': {'system': 'Eres un asistente que responde con datos empresariales en formato JSON, sin texto adicional.\\n',\n",
       "   'user': 'Genera un resumen estructurado de la empresa {company_name}. Si falta información, usa null. Responde solo con JSON.\\n'}}}"
      ]
     },
     "execution_count": 7,
     "metadata": {},
     "output_type": "execute_result"
    }
   ],
   "source": [
    "from utils import load_prompts\n",
    "\n",
    "load_prompts(\"../prompts.yaml\")"
   ]
  },
  {
   "cell_type": "code",
   "execution_count": 8,
   "id": "2a5605f5",
   "metadata": {},
   "outputs": [],
   "source": [
    "companies_df = pd.read_csv(f\"../{config['data']['input_csv_path']}\")"
   ]
  },
  {
   "cell_type": "code",
   "execution_count": 11,
   "id": "f310d8b9",
   "metadata": {},
   "outputs": [
    {
     "data": {
      "application/vnd.microsoft.datawrangler.viewer.v0+json": {
       "columns": [
        {
         "name": "index",
         "rawType": "object",
         "type": "string"
        },
        {
         "name": "0",
         "rawType": "object",
         "type": "unknown"
        }
       ],
       "ref": "1062b5d1-f3c5-4cd1-8fec-fa5d32651ea7",
       "rows": [
        [
         "Cuenta",
         "object"
        ],
        [
         "CIF",
         "float64"
        ],
        [
         "Está en SF?",
         "float64"
        ],
        [
         "Link a SF",
         "float64"
        ],
        [
         "Razón Social",
         "float64"
        ],
        [
         "Teléfono",
         "float64"
        ],
        [
         "Sitio Web",
         "float64"
        ],
        [
         "CNAE",
         "float64"
        ],
        [
         "Descripción de CNAE",
         "float64"
        ],
        [
         "Sector",
         "float64"
        ],
        [
         "Número de Empleados",
         "float64"
        ],
        [
         "Ingresos Anuales",
         "float64"
        ],
        [
         "Pais",
         "float64"
        ],
        [
         "Estado/Provincia",
         "float64"
        ],
        [
         "Ciudad",
         "float64"
        ],
        [
         "Direccion",
         "float64"
        ],
        [
         "Nombre CIO",
         "float64"
        ],
        [
         "Apellidos CIO",
         "float64"
        ],
        [
         "email CIO",
         "float64"
        ],
        [
         "Teléfono móvil CIO",
         "float64"
        ],
        [
         "Link del perfil de Linkedin CIO",
         "float64"
        ],
        [
         "Nombre CEO",
         "float64"
        ],
        [
         "Apellidos CEO",
         "float64"
        ],
        [
         "email CEO",
         "float64"
        ],
        [
         "Teléfono móvil CEO",
         "float64"
        ],
        [
         "Link del perfil de Linkedin CEO",
         "float64"
        ]
       ],
       "shape": {
        "columns": 1,
        "rows": 26
       }
      },
      "text/plain": [
       "Cuenta                              object\n",
       "CIF                                float64\n",
       "Está en SF?                        float64\n",
       "Link a SF                          float64\n",
       "Razón Social                       float64\n",
       "Teléfono                           float64\n",
       "Sitio Web                          float64\n",
       "CNAE                               float64\n",
       "Descripción de CNAE                float64\n",
       "Sector                             float64\n",
       "Número de Empleados                float64\n",
       "Ingresos Anuales                   float64\n",
       "Pais                               float64\n",
       "Estado/Provincia                   float64\n",
       "Ciudad                             float64\n",
       "Direccion                          float64\n",
       "Nombre CIO                         float64\n",
       "Apellidos CIO                      float64\n",
       "email CIO                          float64\n",
       "Teléfono móvil CIO                 float64\n",
       "Link del perfil de Linkedin CIO    float64\n",
       "Nombre CEO                         float64\n",
       "Apellidos CEO                      float64\n",
       "email CEO                          float64\n",
       "Teléfono móvil CEO                 float64\n",
       "Link del perfil de Linkedin CEO    float64\n",
       "dtype: object"
      ]
     },
     "execution_count": 11,
     "metadata": {},
     "output_type": "execute_result"
    }
   ],
   "source": [
    "companies_df.dtypes"
   ]
  },
  {
   "cell_type": "code",
   "execution_count": 20,
   "id": "10415336",
   "metadata": {},
   "outputs": [
    {
     "data": {
      "application/vnd.microsoft.datawrangler.viewer.v0+json": {
       "columns": [
        {
         "name": "index",
         "rawType": "int64",
         "type": "integer"
        },
        {
         "name": "Cuenta",
         "rawType": "object",
         "type": "string"
        },
        {
         "name": "CIF",
         "rawType": "object",
         "type": "unknown"
        },
        {
         "name": "Razón Social",
         "rawType": "object",
         "type": "string"
        },
        {
         "name": "Teléfono",
         "rawType": "float64",
         "type": "float"
        },
        {
         "name": "Sitio Web",
         "rawType": "float64",
         "type": "float"
        },
        {
         "name": "CNAE",
         "rawType": "float64",
         "type": "float"
        },
        {
         "name": "Descripción de CNAE",
         "rawType": "object",
         "type": "unknown"
        },
        {
         "name": "Sector",
         "rawType": "object",
         "type": "unknown"
        },
        {
         "name": "Número de Empleados",
         "rawType": "object",
         "type": "string"
        },
        {
         "name": "Ingresos anuales",
         "rawType": "object",
         "type": "string"
        },
        {
         "name": "Pais",
         "rawType": "object",
         "type": "string"
        },
        {
         "name": "Estado/Provincia",
         "rawType": "object",
         "type": "unknown"
        },
        {
         "name": "Ciudad",
         "rawType": "object",
         "type": "unknown"
        },
        {
         "name": "Direccion",
         "rawType": "object",
         "type": "unknown"
        },
        {
         "name": "Número de Empleados min",
         "rawType": "float64",
         "type": "float"
        },
        {
         "name": "Número de Empleados max",
         "rawType": "float64",
         "type": "float"
        },
        {
         "name": "Ingresos anuales min",
         "rawType": "float64",
         "type": "float"
        },
        {
         "name": "Ingresos anuales max",
         "rawType": "float64",
         "type": "float"
        }
       ],
       "ref": "4bd0d068-03e3-423e-9385-200b9b40caa1",
       "rows": [
        [
         "0",
         "Mossega",
         "B96704390",
         "MOSSEGA 8185 SL",
         null,
         null,
         "4641.0",
         "Comercio al por mayor de textiles",
         "Comercio al por mayor e intermediarios del comercio, excepto de vehículos de motor y motocicletas",
         "[0, 10]",
         "[30000, 60000]",
         "España",
         "Valencia",
         "Olleria (l)",
         "Calle Medicos, S/n, 46850, Olleria (l), Valencia",
         "0.0",
         "10.0",
         "30000.0",
         "60000.0"
        ],
        [
         "1",
         "Vision Técnica",
         null,
         "VISION TECNICA SL",
         null,
         null,
         null,
         null,
         null,
         "[]",
         "[]",
         "España",
         null,
         null,
         null,
         null,
         null,
         null,
         null
        ]
       ],
       "shape": {
        "columns": 18,
        "rows": 2
       }
      },
      "text/html": [
       "<div>\n",
       "<style scoped>\n",
       "    .dataframe tbody tr th:only-of-type {\n",
       "        vertical-align: middle;\n",
       "    }\n",
       "\n",
       "    .dataframe tbody tr th {\n",
       "        vertical-align: top;\n",
       "    }\n",
       "\n",
       "    .dataframe thead th {\n",
       "        text-align: right;\n",
       "    }\n",
       "</style>\n",
       "<table border=\"1\" class=\"dataframe\">\n",
       "  <thead>\n",
       "    <tr style=\"text-align: right;\">\n",
       "      <th></th>\n",
       "      <th>Cuenta</th>\n",
       "      <th>CIF</th>\n",
       "      <th>Razón Social</th>\n",
       "      <th>Teléfono</th>\n",
       "      <th>Sitio Web</th>\n",
       "      <th>CNAE</th>\n",
       "      <th>Descripción de CNAE</th>\n",
       "      <th>Sector</th>\n",
       "      <th>Número de Empleados</th>\n",
       "      <th>Ingresos anuales</th>\n",
       "      <th>Pais</th>\n",
       "      <th>Estado/Provincia</th>\n",
       "      <th>Ciudad</th>\n",
       "      <th>Direccion</th>\n",
       "      <th>Número de Empleados min</th>\n",
       "      <th>Número de Empleados max</th>\n",
       "      <th>Ingresos anuales min</th>\n",
       "      <th>Ingresos anuales max</th>\n",
       "    </tr>\n",
       "  </thead>\n",
       "  <tbody>\n",
       "    <tr>\n",
       "      <th>0</th>\n",
       "      <td>Mossega</td>\n",
       "      <td>B96704390</td>\n",
       "      <td>MOSSEGA 8185 SL</td>\n",
       "      <td>NaN</td>\n",
       "      <td>NaN</td>\n",
       "      <td>4641.0</td>\n",
       "      <td>Comercio al por mayor de textiles</td>\n",
       "      <td>Comercio al por mayor e intermediarios del com...</td>\n",
       "      <td>[0, 10]</td>\n",
       "      <td>[30000, 60000]</td>\n",
       "      <td>España</td>\n",
       "      <td>Valencia</td>\n",
       "      <td>Olleria (l)</td>\n",
       "      <td>Calle Medicos, S/n, 46850, Olleria (l), Valencia</td>\n",
       "      <td>0.0</td>\n",
       "      <td>10.0</td>\n",
       "      <td>30000.0</td>\n",
       "      <td>60000.0</td>\n",
       "    </tr>\n",
       "    <tr>\n",
       "      <th>1</th>\n",
       "      <td>Vision Técnica</td>\n",
       "      <td>NaN</td>\n",
       "      <td>VISION TECNICA SL</td>\n",
       "      <td>NaN</td>\n",
       "      <td>NaN</td>\n",
       "      <td>NaN</td>\n",
       "      <td>NaN</td>\n",
       "      <td>NaN</td>\n",
       "      <td>[]</td>\n",
       "      <td>[]</td>\n",
       "      <td>España</td>\n",
       "      <td>NaN</td>\n",
       "      <td>NaN</td>\n",
       "      <td>NaN</td>\n",
       "      <td>NaN</td>\n",
       "      <td>NaN</td>\n",
       "      <td>NaN</td>\n",
       "      <td>NaN</td>\n",
       "    </tr>\n",
       "  </tbody>\n",
       "</table>\n",
       "</div>"
      ],
      "text/plain": [
       "           Cuenta        CIF       Razón Social  Teléfono  Sitio Web    CNAE  \\\n",
       "0         Mossega  B96704390    MOSSEGA 8185 SL       NaN        NaN  4641.0   \n",
       "1  Vision Técnica        NaN  VISION TECNICA SL       NaN        NaN     NaN   \n",
       "\n",
       "                 Descripción de CNAE  \\\n",
       "0  Comercio al por mayor de textiles   \n",
       "1                                NaN   \n",
       "\n",
       "                                              Sector Número de Empleados  \\\n",
       "0  Comercio al por mayor e intermediarios del com...             [0, 10]   \n",
       "1                                                NaN                  []   \n",
       "\n",
       "  Ingresos anuales    Pais Estado/Provincia       Ciudad  \\\n",
       "0   [30000, 60000]  España         Valencia  Olleria (l)   \n",
       "1               []  España              NaN          NaN   \n",
       "\n",
       "                                          Direccion  Número de Empleados min  \\\n",
       "0  Calle Medicos, S/n, 46850, Olleria (l), Valencia                      0.0   \n",
       "1                                               NaN                      NaN   \n",
       "\n",
       "   Número de Empleados max  Ingresos anuales min  Ingresos anuales max  \n",
       "0                     10.0               30000.0               60000.0  \n",
       "1                      NaN                   NaN                   NaN  "
      ]
     },
     "execution_count": 20,
     "metadata": {},
     "output_type": "execute_result"
    }
   ],
   "source": [
    "output_df = pd.read_csv(f\"../{config['output']['output_csv_path']}\")\n",
    "output_df"
   ]
  },
  {
   "cell_type": "code",
   "execution_count": null,
   "id": "5abaae59",
   "metadata": {},
   "outputs": [
    {
     "data": {
      "application/vnd.microsoft.datawrangler.viewer.v0+json": {
       "columns": [
        {
         "name": "index",
         "rawType": "int64",
         "type": "integer"
        },
        {
         "name": "Cuenta",
         "rawType": "object",
         "type": "string"
        },
        {
         "name": "CIF",
         "rawType": "object",
         "type": "unknown"
        },
        {
         "name": "Razón Social",
         "rawType": "object",
         "type": "string"
        },
        {
         "name": "Teléfono",
         "rawType": "object",
         "type": "unknown"
        },
        {
         "name": "Sitio Web",
         "rawType": "object",
         "type": "unknown"
        },
        {
         "name": "CNAE",
         "rawType": "float64",
         "type": "float"
        },
        {
         "name": "Descripción de CNAE",
         "rawType": "object",
         "type": "unknown"
        },
        {
         "name": "Sector",
         "rawType": "object",
         "type": "unknown"
        },
        {
         "name": "Número de Empleados",
         "rawType": "object",
         "type": "string"
        },
        {
         "name": "Ingresos anuales",
         "rawType": "object",
         "type": "string"
        },
        {
         "name": "Pais",
         "rawType": "object",
         "type": "unknown"
        },
        {
         "name": "Estado/Provincia",
         "rawType": "object",
         "type": "unknown"
        },
        {
         "name": "Ciudad",
         "rawType": "object",
         "type": "unknown"
        },
        {
         "name": "Direccion",
         "rawType": "object",
         "type": "unknown"
        }
       ],
       "ref": "f9395a01-714c-4bb0-a922-71c03d49fd18",
       "rows": [
        [
         "0",
         "Mossega",
         "B96704390",
         "Mossega 8185 SL",
         "No disponible",
         "No disponible",
         "4641.0",
         "Comercio al por mayor de textiles",
         "Comercio al por mayor e intermediarios del comercio, excepto de vehículos de motor y motocicletas",
         "[]",
         "[]",
         "España",
         "Valencia",
         "Olleria (l)",
         "Calle Medicos, S/n, 46850 Olleria (l), Valencia, España."
        ],
        [
         "1",
         "Vision Técnica",
         null,
         "Vision Técnica",
         null,
         null,
         null,
         null,
         null,
         "[]",
         "[]",
         null,
         null,
         null,
         null
        ]
       ],
       "shape": {
        "columns": 14,
        "rows": 2
       }
      },
      "text/html": [
       "<div>\n",
       "<style scoped>\n",
       "    .dataframe tbody tr th:only-of-type {\n",
       "        vertical-align: middle;\n",
       "    }\n",
       "\n",
       "    .dataframe tbody tr th {\n",
       "        vertical-align: top;\n",
       "    }\n",
       "\n",
       "    .dataframe thead th {\n",
       "        text-align: right;\n",
       "    }\n",
       "</style>\n",
       "<table border=\"1\" class=\"dataframe\">\n",
       "  <thead>\n",
       "    <tr style=\"text-align: right;\">\n",
       "      <th></th>\n",
       "      <th>Cuenta</th>\n",
       "      <th>CIF</th>\n",
       "      <th>Razón Social</th>\n",
       "      <th>Teléfono</th>\n",
       "      <th>Sitio Web</th>\n",
       "      <th>CNAE</th>\n",
       "      <th>Descripción de CNAE</th>\n",
       "      <th>Sector</th>\n",
       "      <th>Número de Empleados</th>\n",
       "      <th>Ingresos anuales</th>\n",
       "      <th>Pais</th>\n",
       "      <th>Estado/Provincia</th>\n",
       "      <th>Ciudad</th>\n",
       "      <th>Direccion</th>\n",
       "    </tr>\n",
       "  </thead>\n",
       "  <tbody>\n",
       "    <tr>\n",
       "      <th>0</th>\n",
       "      <td>Mossega</td>\n",
       "      <td>B96704390</td>\n",
       "      <td>Mossega 8185 SL</td>\n",
       "      <td>No disponible</td>\n",
       "      <td>No disponible</td>\n",
       "      <td>4641.0</td>\n",
       "      <td>Comercio al por mayor de textiles</td>\n",
       "      <td>Comercio al por mayor e intermediarios del com...</td>\n",
       "      <td>[]</td>\n",
       "      <td>[]</td>\n",
       "      <td>España</td>\n",
       "      <td>Valencia</td>\n",
       "      <td>Olleria (l)</td>\n",
       "      <td>Calle Medicos, S/n, 46850 Olleria (l), Valenci...</td>\n",
       "    </tr>\n",
       "    <tr>\n",
       "      <th>1</th>\n",
       "      <td>Vision Técnica</td>\n",
       "      <td>NaN</td>\n",
       "      <td>Vision Técnica</td>\n",
       "      <td>NaN</td>\n",
       "      <td>NaN</td>\n",
       "      <td>NaN</td>\n",
       "      <td>NaN</td>\n",
       "      <td>NaN</td>\n",
       "      <td>[]</td>\n",
       "      <td>[]</td>\n",
       "      <td>NaN</td>\n",
       "      <td>NaN</td>\n",
       "      <td>NaN</td>\n",
       "      <td>NaN</td>\n",
       "    </tr>\n",
       "  </tbody>\n",
       "</table>\n",
       "</div>"
      ],
      "text/plain": [
       "           Cuenta        CIF     Razón Social       Teléfono      Sitio Web  \\\n",
       "0         Mossega  B96704390  Mossega 8185 SL  No disponible  No disponible   \n",
       "1  Vision Técnica        NaN   Vision Técnica            NaN            NaN   \n",
       "\n",
       "     CNAE                Descripción de CNAE  \\\n",
       "0  4641.0  Comercio al por mayor de textiles   \n",
       "1     NaN                                NaN   \n",
       "\n",
       "                                              Sector Número de Empleados  \\\n",
       "0  Comercio al por mayor e intermediarios del com...                  []   \n",
       "1                                                NaN                  []   \n",
       "\n",
       "  Ingresos anuales    Pais Estado/Provincia       Ciudad  \\\n",
       "0               []  España         Valencia  Olleria (l)   \n",
       "1               []     NaN              NaN          NaN   \n",
       "\n",
       "                                           Direccion  \n",
       "0  Calle Medicos, S/n, 46850 Olleria (l), Valenci...  \n",
       "1                                                NaN  "
      ]
     },
     "execution_count": 13,
     "metadata": {},
     "output_type": "execute_result"
    }
   ],
   "source": []
  }
 ],
 "metadata": {
  "kernelspec": {
   "display_name": "perplexity-company-scraper",
   "language": "python",
   "name": "python3"
  },
  "language_info": {
   "codemirror_mode": {
    "name": "ipython",
    "version": 3
   },
   "file_extension": ".py",
   "mimetype": "text/x-python",
   "name": "python",
   "nbconvert_exporter": "python",
   "pygments_lexer": "ipython3",
   "version": "3.10.18"
  }
 },
 "nbformat": 4,
 "nbformat_minor": 5
}
